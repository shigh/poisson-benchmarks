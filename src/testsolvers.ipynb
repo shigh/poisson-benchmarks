{
 "metadata": {
  "name": "",
  "signature": "sha256:30f24be3b1dfa72e685cf72a7482f6e9e958642137d2e2ee58c1171db7e60dba"
 },
 "nbformat": 3,
 "nbformat_minor": 0,
 "worksheets": [
  {
   "cells": [
    {
     "cell_type": "code",
     "collapsed": false,
     "input": [
      "%matplotlib inline\n",
      "%load_ext autoreload\n",
      "%autoreload 2"
     ],
     "language": "python",
     "metadata": {},
     "outputs": [],
     "prompt_number": 1
    },
    {
     "cell_type": "code",
     "collapsed": false,
     "input": [
      "import numpy as np\n",
      "import matplotlib.pyplot as plt\n",
      "from testsolvers import *"
     ],
     "language": "python",
     "metadata": {},
     "outputs": [],
     "prompt_number": 2
    },
    {
     "cell_type": "markdown",
     "metadata": {},
     "source": [
      "### Check 1D"
     ]
    },
    {
     "cell_type": "code",
     "collapsed": false,
     "input": [
      "nx = 100\n",
      "L = 2*np.pi\n",
      "dx = L/nx\n",
      "k = 20\n",
      "\n",
      "x, s = problem_setup_1d(0, nx, dx, k)\n",
      "solve1d(x, L)\n",
      "\n",
      "print np.linalg.norm(x - s)"
     ],
     "language": "python",
     "metadata": {},
     "outputs": [
      {
       "output_type": "stream",
       "stream": "stdout",
       "text": [
        "1.16947769399e-15\n"
       ]
      }
     ],
     "prompt_number": 3
    },
    {
     "cell_type": "markdown",
     "metadata": {},
     "source": [
      "### Check 2D"
     ]
    },
    {
     "cell_type": "code",
     "collapsed": false,
     "input": [
      "ny = 100\n",
      "nx = 2*ny\n",
      "L = 2*np.pi\n",
      "dy = L/ny\n",
      "dx = L/nx\n",
      "\n",
      "k = 20\n",
      "x, s = problem_setup_2d(0, ny, dy, 0, nx, dx, k) \n",
      "x0 = x.copy()\n",
      "\n",
      "solve2d(x, L, L)\n",
      "\n",
      "print np.linalg.norm(x - s)"
     ],
     "language": "python",
     "metadata": {},
     "outputs": [
      {
       "output_type": "stream",
       "stream": "stdout",
       "text": [
        "4.68674527635e-16\n"
       ]
      }
     ],
     "prompt_number": 4
    },
    {
     "cell_type": "code",
     "collapsed": false,
     "input": [
      "%%file tmp.py\n",
      "\n",
      "import numpy as np\n",
      "from testsolvers import *\n",
      "from mpi4py import MPI\n",
      "\n",
      "N0 = N1 = 100\n",
      "k = 10\n",
      "L = 2*np.pi\n",
      "dy = L/N0\n",
      "dx = L/N1\n",
      "\n",
      "solver = PyFFTWPoisson2DMPI(N0, L, N1, L)\n",
      "\n",
      "ny = solver.ny\n",
      "nx = solver.nx\n",
      "y0 = solver.y0\n",
      "\n",
      "x, s = problem_setup_2d(y0, ny, dy, 0, nx, dx, k) \n",
      "\n",
      "solver.solve(x)\n",
      "\n",
      "print np.linalg.norm(x-s)"
     ],
     "language": "python",
     "metadata": {},
     "outputs": [
      {
       "output_type": "stream",
       "stream": "stdout",
       "text": [
        "Writing tmp.py\n"
       ]
      }
     ],
     "prompt_number": 5
    },
    {
     "cell_type": "code",
     "collapsed": false,
     "input": [
      "!mpirun -n 2 python tmp.py"
     ],
     "language": "python",
     "metadata": {},
     "outputs": [
      {
       "output_type": "stream",
       "stream": "stdout",
       "text": [
        "2.54502582487e-16\r\n",
        "4.07981109816e-16\r\n"
       ]
      }
     ],
     "prompt_number": 6
    },
    {
     "cell_type": "markdown",
     "metadata": {},
     "source": [
      "### Check 3D"
     ]
    },
    {
     "cell_type": "code",
     "collapsed": false,
     "input": [
      "nz = ny = nx = 100\n",
      "nx = 2*ny\n",
      "L = 2*np.pi\n",
      "dz = L/nz\n",
      "dy = L/ny\n",
      "dx = L/nx\n",
      "\n",
      "k = 10\n",
      "x, s = problem_setup_3d(0, nz, dz, 0, ny, dy, 0, nx, dx, k) \n",
      "x0 = x.copy()\n",
      "\n",
      "solve3d(x, L, L, L)\n",
      "\n",
      "print np.linalg.norm(x - s)"
     ],
     "language": "python",
     "metadata": {},
     "outputs": [
      {
       "output_type": "stream",
       "stream": "stdout",
       "text": [
        "3.70521225153e-15\n"
       ]
      }
     ],
     "prompt_number": 7
    },
    {
     "cell_type": "code",
     "collapsed": false,
     "input": [
      "%%file tmp.py\n",
      "\n",
      "import numpy as np\n",
      "from testsolvers import *\n",
      "from mpi4py import MPI\n",
      "\n",
      "N0 = N1 = N2 = 100\n",
      "k = 10\n",
      "L = 2*np.pi\n",
      "dz = L/N0\n",
      "dy = L/N1\n",
      "dx = L/N2\n",
      "\n",
      "solver = PyFFTWPoisson3DMPI(N0, L, N1, L, N2, L)\n",
      "nz = solver.nz\n",
      "ny = solver.ny\n",
      "nx = solver.nx\n",
      "z0 = solver.z0\n",
      "\n",
      "x, s = problem_setup_3d(z0, nz, dz, 0, ny, dy, 0, nx, dx, k) \n",
      "\n",
      "solver.solve(x)\n",
      "\n",
      "print np.linalg.norm(x-s)"
     ],
     "language": "python",
     "metadata": {},
     "outputs": [
      {
       "output_type": "stream",
       "stream": "stdout",
       "text": [
        "Overwriting tmp.py\n"
       ]
      }
     ],
     "prompt_number": 8
    },
    {
     "cell_type": "code",
     "collapsed": false,
     "input": [
      "!mpirun -n 2 python tmp.py"
     ],
     "language": "python",
     "metadata": {},
     "outputs": [
      {
       "output_type": "stream",
       "stream": "stdout",
       "text": [
        "1.36781930186e-15\r\n",
        "1.86707503934e-15\r\n"
       ]
      }
     ],
     "prompt_number": 9
    },
    {
     "cell_type": "code",
     "collapsed": false,
     "input": [],
     "language": "python",
     "metadata": {},
     "outputs": [],
     "prompt_number": 9
    }
   ],
   "metadata": {}
  }
 ]
}