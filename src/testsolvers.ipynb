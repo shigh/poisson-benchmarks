{
 "metadata": {
  "name": "",
  "signature": "sha256:b1e34c8f4190ed4ff89de3230bce6016b506032a79ecbb1353449a1faecf301c"
 },
 "nbformat": 3,
 "nbformat_minor": 0,
 "worksheets": [
  {
   "cells": [
    {
     "cell_type": "code",
     "collapsed": false,
     "input": [
      "%matplotlib inline\n",
      "%load_ext autoreload\n",
      "%autoreload 2"
     ],
     "language": "python",
     "metadata": {},
     "outputs": [],
     "prompt_number": 1
    },
    {
     "cell_type": "code",
     "collapsed": false,
     "input": [
      "import numpy as np\n",
      "import matplotlib.pyplot as plt\n",
      "from testsolvers import *"
     ],
     "language": "python",
     "metadata": {},
     "outputs": [],
     "prompt_number": 2
    },
    {
     "cell_type": "markdown",
     "metadata": {},
     "source": [
      "### Check 1D"
     ]
    },
    {
     "cell_type": "code",
     "collapsed": false,
     "input": [
      "nx = 100\n",
      "L = 2*np.pi\n",
      "dx = L/nx\n",
      "k = 20\n",
      "\n",
      "x, s = problem_setup_1d(0, nx, dx, k)\n",
      "solve1d(x, L)\n",
      "\n",
      "print np.linalg.norm(x - s)"
     ],
     "language": "python",
     "metadata": {},
     "outputs": [
      {
       "output_type": "stream",
       "stream": "stdout",
       "text": [
        "1.18463999759e-15\n"
       ]
      }
     ],
     "prompt_number": 3
    },
    {
     "cell_type": "markdown",
     "metadata": {},
     "source": [
      "### Check 2D"
     ]
    },
    {
     "cell_type": "code",
     "collapsed": false,
     "input": [
      "ny = 100\n",
      "nx = 2*ny\n",
      "L = 2*np.pi\n",
      "dy = L/ny\n",
      "dx = L/nx\n",
      "\n",
      "k = 20\n",
      "x, s = problem_setup_2d(0, ny, dy, 0, nx, dx, k) \n",
      "x0 = x.copy()\n",
      "\n",
      "solve2d(x, L, L)\n",
      "\n",
      "print np.linalg.norm(x - s)"
     ],
     "language": "python",
     "metadata": {},
     "outputs": [
      {
       "output_type": "stream",
       "stream": "stdout",
       "text": [
        "4.48741161544e-16\n"
       ]
      }
     ],
     "prompt_number": 4
    },
    {
     "cell_type": "markdown",
     "metadata": {},
     "source": [
      "### Check 3D"
     ]
    },
    {
     "cell_type": "code",
     "collapsed": false,
     "input": [
      "nz = ny = nx = 100\n",
      "nx = 2*ny\n",
      "L = 2*np.pi\n",
      "dz = L/nz\n",
      "dy = L/ny\n",
      "dx = L/nx\n",
      "\n",
      "k = 1\n",
      "x, s = problem_setup_3d(0, nz, dz, 0, ny, dy, 0, nx, dx, k) \n",
      "x0 = x.copy()\n",
      "\n",
      "solve3d(x, L, L, L)\n",
      "\n",
      "print np.linalg.norm(x - s)"
     ],
     "language": "python",
     "metadata": {},
     "outputs": [
      {
       "output_type": "stream",
       "stream": "stdout",
       "text": [
        "4.70818833376e-16\n"
       ]
      }
     ],
     "prompt_number": 5
    },
    {
     "cell_type": "code",
     "collapsed": false,
     "input": [],
     "language": "python",
     "metadata": {},
     "outputs": [],
     "prompt_number": 5
    }
   ],
   "metadata": {}
  }
 ]
}