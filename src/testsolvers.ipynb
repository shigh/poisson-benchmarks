{
 "metadata": {
  "name": "",
  "signature": "sha256:7f51d2719c1fd27e627742f9e6cfe045eb5cfa5a65f682defbf4c90ce4d6b87a"
 },
 "nbformat": 3,
 "nbformat_minor": 0,
 "worksheets": [
  {
   "cells": [
    {
     "cell_type": "code",
     "collapsed": false,
     "input": [
      "%matplotlib inline\n",
      "%load_ext autoreload\n",
      "%autoreload 2"
     ],
     "language": "python",
     "metadata": {},
     "outputs": [],
     "prompt_number": 1
    },
    {
     "cell_type": "code",
     "collapsed": false,
     "input": [
      "import numpy as np\n",
      "import matplotlib.pyplot as plt\n",
      "from testsolvers import *"
     ],
     "language": "python",
     "metadata": {},
     "outputs": [],
     "prompt_number": 2
    },
    {
     "cell_type": "markdown",
     "metadata": {},
     "source": [
      "### Check 1D"
     ]
    },
    {
     "cell_type": "code",
     "collapsed": false,
     "input": [
      "N = 100\n",
      "L = 2*np.pi\n",
      "k = 20\n",
      "x_vals = np.linspace(0, 1, N+1)[:-1]\n",
      "x = np.sin(x_vals*L*k)\n",
      "x0 = x.copy()\n",
      "\n",
      "solve1d(x, L)\n",
      "\n",
      "print np.linalg.norm(x - x0/k**2)"
     ],
     "language": "python",
     "metadata": {},
     "outputs": [
      {
       "output_type": "stream",
       "stream": "stdout",
       "text": [
        "4.2565046992e-15\n"
       ]
      }
     ],
     "prompt_number": 3
    },
    {
     "cell_type": "markdown",
     "metadata": {},
     "source": [
      "### Check 2D"
     ]
    },
    {
     "cell_type": "code",
     "collapsed": false,
     "input": [
      "ny = 100\n",
      "nx = 2*ny\n",
      "L = 2*np.pi\n",
      "dy = L/ny\n",
      "dx = L/nx\n",
      "\n",
      "k = 20\n",
      "x, s = problem_setup_2d(0, ny, dy, 0, nx, dx, k) \n",
      "x0 = x.copy()\n",
      "\n",
      "solve2d(x, L, L)\n",
      "\n",
      "print np.linalg.norm(x - s)"
     ],
     "language": "python",
     "metadata": {},
     "outputs": [
      {
       "output_type": "stream",
       "stream": "stdout",
       "text": [
        "4.48741161544e-16\n"
       ]
      }
     ],
     "prompt_number": 4
    },
    {
     "cell_type": "code",
     "collapsed": false,
     "input": [
      "nz = ny = nx = 100\n",
      "nx = 2*ny\n",
      "L = 2*np.pi\n",
      "k = 20\n",
      "x_vals  = np.linspace(0, 1, nx+1)[:-1]\n",
      "y_vals  = np.linspace(0, 1, ny+1)[:-1]\n",
      "z_vals  = np.linspace(0, 1, ny+1)[:-1]\n",
      "X, Y, Z = np.meshgrid(x_vals, y_vals, z_vals)\n",
      "x = np.sin(X*L*k)*np.sin(Y*L*k)*np.sin(Z*L*k)\n",
      "x0 = x.copy()\n",
      "\n",
      "solve3d(x, L, L, L)\n",
      "\n",
      "print np.linalg.norm(x - x0/(2*k**2))"
     ],
     "language": "python",
     "metadata": {},
     "outputs": [
      {
       "output_type": "stream",
       "stream": "stdout",
       "text": [
        "3.60055894038e-15\n"
       ]
      }
     ],
     "prompt_number": 5
    },
    {
     "cell_type": "code",
     "collapsed": false,
     "input": [],
     "language": "python",
     "metadata": {},
     "outputs": [],
     "prompt_number": 5
    }
   ],
   "metadata": {}
  }
 ]
}