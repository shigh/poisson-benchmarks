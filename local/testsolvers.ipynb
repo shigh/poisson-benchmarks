{
 "metadata": {
  "name": "",
  "signature": "sha256:7b41c44524cbf2429cc39c640fc459da0c5ab40720f9b98263c3a917a9f8d8e8"
 },
 "nbformat": 3,
 "nbformat_minor": 0,
 "worksheets": [
  {
   "cells": [
    {
     "cell_type": "code",
     "collapsed": false,
     "input": [
      "%matplotlib inline\n",
      "%load_ext autoreload\n",
      "%autoreload 2"
     ],
     "language": "python",
     "metadata": {},
     "outputs": [],
     "prompt_number": 1
    },
    {
     "cell_type": "code",
     "collapsed": false,
     "input": [
      "import numpy as np\n",
      "import matplotlib.pyplot as plt\n",
      "from testsolvers import *"
     ],
     "language": "python",
     "metadata": {},
     "outputs": [],
     "prompt_number": 2
    },
    {
     "cell_type": "code",
     "collapsed": false,
     "input": [
      "N = 100\n",
      "L = 2*np.pi\n",
      "k = 20\n",
      "x_vals = np.linspace(0, 1, N+1)[:-1]\n",
      "x = np.sin(x_vals*L*k)\n",
      "x0 = x.copy()\n",
      "\n",
      "solve1d(x, L)\n",
      "\n",
      "print np.linalg.norm(x - x0/k**2)"
     ],
     "language": "python",
     "metadata": {},
     "outputs": [
      {
       "output_type": "stream",
       "stream": "stdout",
       "text": [
        "4.2565046992e-15\n"
       ]
      }
     ],
     "prompt_number": 3
    },
    {
     "cell_type": "code",
     "collapsed": false,
     "input": [],
     "language": "python",
     "metadata": {},
     "outputs": [],
     "prompt_number": 3
    }
   ],
   "metadata": {}
  }
 ]
}