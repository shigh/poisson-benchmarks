{
 "metadata": {
  "name": "",
  "signature": "sha256:33b33a69cd7df20e94f03717ce2bcc1a1528965c4abfbc9c3b6dbf7ae513ebc2"
 },
 "nbformat": 3,
 "nbformat_minor": 0,
 "worksheets": [
  {
   "cells": [
    {
     "cell_type": "code",
     "collapsed": false,
     "input": [
      "%matplotlib inline\n",
      "%load_ext autoreload\n",
      "%autoreload 2"
     ],
     "language": "python",
     "metadata": {},
     "outputs": [],
     "prompt_number": 1
    },
    {
     "cell_type": "code",
     "collapsed": false,
     "input": [
      "import numpy as np\n",
      "import matplotlib.pyplot as plt\n",
      "from testsolvers import *"
     ],
     "language": "python",
     "metadata": {},
     "outputs": [],
     "prompt_number": 2
    },
    {
     "cell_type": "code",
     "collapsed": false,
     "input": [
      "N = 100\n",
      "L = 2*np.pi\n",
      "k = 20\n",
      "x_vals = np.linspace(0, 1, N+1)[:-1]\n",
      "x = np.sin(x_vals*L*k)\n",
      "x0 = x.copy()\n",
      "\n",
      "solve1d(x, L)\n",
      "\n",
      "print np.linalg.norm(x - x0/k**2)"
     ],
     "language": "python",
     "metadata": {},
     "outputs": [
      {
       "output_type": "stream",
       "stream": "stdout",
       "text": [
        "4.2565046992e-15\n"
       ]
      }
     ],
     "prompt_number": 3
    },
    {
     "cell_type": "code",
     "collapsed": false,
     "input": [
      "ny = nx = 10\n",
      "L = 2*np.pi\n",
      "k = 5\n",
      "x_vals = np.linspace(0, 1, nx+1)[:-1]\n",
      "y_vals = np.linspace(0, 1, ny+1)[:-1]\n",
      "X, Y = np.meshgrid(x_vals, y_vals)\n",
      "x = np.sin(X*L*k)*np.sin(Y*L*k)\n",
      "x0 = x.copy()\n",
      "\n",
      "solve2d(x, L, L)\n",
      "\n",
      "print np.linalg.norm(x - x0/(2*k**2))"
     ],
     "language": "python",
     "metadata": {},
     "outputs": [
      {
       "output_type": "stream",
       "stream": "stdout",
       "text": [
        "3.0726467002e-30\n"
       ]
      }
     ],
     "prompt_number": 4
    },
    {
     "cell_type": "code",
     "collapsed": false,
     "input": [],
     "language": "python",
     "metadata": {},
     "outputs": [],
     "prompt_number": 4
    }
   ],
   "metadata": {}
  }
 ]
}